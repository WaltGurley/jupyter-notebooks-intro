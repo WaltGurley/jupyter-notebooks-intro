{
 "cells": [
  {
   "cell_type": "markdown",
   "metadata": {},
   "source": [
    "# This is a Jupyter notebook\n",
    "\n",
    "The purpose of this notebook is to get you started with Jupyter notebooks. This notebook is a step-by-step guide for downloading, installing, and running Jupyter.\n",
    "\n",
    "_This notebook was originally created for a Digital Mixer session at the [2016 STELLA Unconference](https://stellagroup.wordpress.com/)_"
   ]
  },
  {
   "cell_type": "markdown",
   "metadata": {},
   "source": [
    "What are Jupyter Notebooks?\n",
    "---\n",
    "[The Jupyter Notebook](http://jupyter.org/) is a browser-based, open-source tool for sharing..."
   ]
  },
  {
   "cell_type": "markdown",
   "metadata": {},
   "source": [
    "**interactive code,...**"
   ]
  },
  {
   "cell_type": "code",
   "execution_count": 1,
   "metadata": {
    "collapsed": false
   },
   "outputs": [
    {
     "name": "stdout",
     "output_type": "stream",
     "text": [
      "This is a line of code.\n"
     ]
    }
   ],
   "source": [
    "print(\"This is a line of code.\")"
   ]
  },
  {
   "cell_type": "markdown",
   "metadata": {},
   "source": [
    "**visualizations,...**"
   ]
  },
  {
   "cell_type": "code",
   "execution_count": 4,
   "metadata": {
    "collapsed": false
   },
   "outputs": [
    {
     "data": {
      "text/plain": [
       "[<matplotlib.lines.Line2D at 0x11240d898>]"
      ]
     },
     "execution_count": 4,
     "metadata": {},
     "output_type": "execute_result"
    },
    {
     "data": {
      "image/png": "[encoded data removed]",
      "text/plain": [
       "<matplotlib.figure.Figure at 0x10c364c88>"
      ]
     },
     "metadata": {},
     "output_type": "display_data"
    }
   ],
   "source": [
    "from matplotlib import pyplot as plt\n",
    "import numpy as np\n",
    "%matplotlib inline\n",
    "plt.style.use('ggplot')\n",
    "x = np.linspace(0, 2*np.pi)\n",
    "plt.ylim(-1.1, 1.1)\n",
    "plt.xlim(-0.1, 2*np.pi + 0.1)\n",
    "plt.plot(x,[np.sin(y) for y in x], \"or\")"
   ]
  },
  {
   "cell_type": "markdown",
   "metadata": {},
   "source": [
    "and **explanatory text** in over 40 programming languages. Jupyter notebooks are used for [everything](http://nb.bianp.net/sort/views/) from data exploration and computational analyses to information presentation and interactive instructional materials for mathematical, statistical, and programming concepts. They are applicable across varied fields and are popular within data sciences, scientific computing, and education.\n",
    "\n",
    "In addition to the uses for the combined writing of code and rich text, Jupyter notebooks are easily sharable via email, cloud storage services, [nbViewer](http://nbviewer.jupyter.org/) or GitHub. In particular, GitHub provides storage and rendering of Jupyter notebooks in the browser for easy viewing ([GitHub + Jupyter Notebooks = <3](https://github.com/blog/1995-github-jupyter-notebooks-3))."
   ]
  },
  {
   "cell_type": "markdown",
   "metadata": {},
   "source": [
    "<div class=\"alert alert-info\" role=\"alert\">\n",
    "<h2>Try before you download...</h2>\n",
    "\n",
    "<p>You can try Jupyter out in the browser first before beginning the download and setup process. Go to <strong>https://try.jupyter.org</strong> to explore interactive notebooks in Python and several other programming languages. <strong>Note that you cannot save notebooks permanently with this service. <em>Your notebook will be deleted after 10 minutes of inactivity</em></strong></p>\n",
    "</div>"
   ]
  },
  {
   "cell_type": "markdown",
   "metadata": {},
   "source": [
    "Getting started with Python and conda\n",
    "---\n",
    "Jupyter notebooks require Python to run. The easiest way to get Python and easily manage Jupyter and the data analysis/scientific packages you will use is through downloading and installing either [Anaconda](https://www.continuum.io/downloads) or [Miniconda](http://conda.pydata.org/miniconda.html).\n",
    "\n",
    "While both Anaconda and Miniconda install a version of Python and the [conda package and environment manager](http://conda.pydata.org/docs/intro.html), Anaconda does more by also installing over 150 of the most popular Python packages for science, math, engineering, and data analysis. The full Anaconda package requires 3 GB of available disk space."
   ]
  },
  {
   "cell_type": "markdown",
   "metadata": {},
   "source": [
    "Installing Miniconda\n",
    "---\n",
    "For the sake of time and space, you can download and install Miniconda. This provides the bare minimum to get started with Jupyter. The following steps are from http://conda.pydata.org/docs/install/quick.html.\n",
    "\n",
    "### 1. Download Miniconda\n",
    "Download Miniconda here: https://github.com/blog/1995-github-jupyter-notebooks-3\n",
    "\n",
    "**Be sure to:**\n",
    "* select the correct installer for your system\n",
    "* select the 3.5 version of Python (unless you really want 2.7)\n",
    "\n",
    "### 2. Install Miniconda on your system\n",
    "**Mac OS X**\n",
    "1. Press `⌘+space` to open Spotlight Search and type in 'Terminal' and press `enter`\n",
    "2. In the terminal navigate to the location where you downloaded Miniconda, e.g.:\n",
    "```bash\n",
    "cd path/to/your/file\n",
    "```\n",
    "3. Type the following and press `enter` to run, following the prompts:\n",
    "```bash\n",
    "bash Miniconda2-latest-MacOSX-x86_64.sh\n",
    "```\n",
    "4. Close and re-open your terminal window for the changes to take effect\n",
    "\n",
    "**Windows**\n",
    "1. Double click the downloaded .exe file and follow the prompts\n",
    "2. If a new terminal window does not open, open a terminal window by clicking Start > Run > Command Prompt\n",
    "\n",
    "**Linux**\n",
    "1. Open the terminal\n",
    "2. In the terminal navigate to the location where you downloaded Miniconda, e.g.:\n",
    "```bash\n",
    "cd path/to/your/file\n",
    "```\n",
    "3. Type the following and press `enter` to run, following the prompts:\n",
    "```bash\n",
    "bash Miniconda2-latest-MacOSX-x86_64.sh\n",
    "```\n",
    "4. Close and re-open your terminal window for the changes to take effect\n",
    "\n",
    "### 3. Test the installation\n",
    "To test the installation on any system enter the following command: `conda list`. If correctly installed, you will see a list of installed packages. ![alt text](./Success.png \"Successful install terminal image\")\n",
    "\n"
   ]
  },
  {
   "cell_type": "markdown",
   "metadata": {
    "collapsed": true
   },
   "source": [
    "Installing Jupyter and other scientific libraries\n",
    "---\n",
    "Congratulations, you have Python and conda installed. Now you need to use conda to install Jupyter. (If you downloaded Anaconda then you already have all the libraries you need. If you followed the steps above then you will need to download the specific Python libraries you want to use, including Jupyter.)\n",
    "\n",
    "### 1. Install Jupyter with conda\n",
    "In the terminal window run:\n",
    "```bash\n",
    "conda install jupyter\n",
    "```\n",
    "When prompted, type `y` and press `return` to proceed. It may take a little while to install.\n",
    "\n",
    "### 2. Install other Python scientific packages with conda\n",
    "To get started let's download [pandas](http://pandas.pydata.org/), a data analysis library, and [matplotlib](http://matplotlib.org/), a plotting library.\n",
    "\n",
    "In the terminal window run:\n",
    "```bash\n",
    "conda install pandas matplotlib\n",
    "```\n",
    "When prompted, type `y` and press `return` to proceed. It may take a little while to install.\n",
    "\n",
    "You follow the same procedure to install any other Python package, e.g.: \n",
    "```bash\n",
    "conda install package_name\n",
    "```\n",
    "\n",
    "For a full list of available conda Python packages check the official list here: [Available Python packages](https://docs.continuum.io/anaconda/pkg-docs)"
   ]
  },
  {
   "cell_type": "markdown",
   "metadata": {
    "collapsed": true
   },
   "source": [
    "Start a Jupyter Notebook\n",
    "---\n",
    "You now have all the dependencies to run a Jupyter notebook and do some computing. To start up a notebook server in the directory you are currently in, run the following in your terminal:\n",
    "```bash\n",
    "jupyter notebook\n",
    "```\n",
    "A browser window, or a tab in your opened browser, should open displaying the Notebook dashboard:\n",
    "\n",
    "![alt text](./jupyterMain.png \"The Notebook dashboard\")\n",
    "\n",
    "You will also see some useful information in your terminal telling you the directory in which Jupyter is running, the network address where Jupyter is running, and how to stop Jupyter, e.g.,:\n",
    "```bash\n",
    "$ Serving notebooks from local directory: /Users/walt/Documents/git-proj/github-public/jupyter-notebooks-intro\n",
    "$ 0 active kernels \n",
    "$ The Jupyter Notebook is running at: http://localhost:8888/\n",
    "$ Use Control-C to stop this server and shut down all kernels (twice to skip confirmation).\n",
    "```\n"
   ]
  },
  {
   "cell_type": "markdown",
   "metadata": {},
   "source": [
    "Create a new notebook\n",
    "---\n",
    "Use the Notebook dashboard to create a new notebook. **In the upper right-hand corner click `new` and select the type of notebook you would like to create.** If you have followed the previous steps, you will have the option to create a Python 3 notebook:\n",
    "![alt text](./newNotebook.png \"Start a new notebook\")"
   ]
  },
  {
   "cell_type": "markdown",
   "metadata": {},
   "source": [
    "Upload an existing notebook\n",
    "---\n",
    "Follow these steps to download an existing notebook from nbviewer and then uplaod it to your Jupyter Notebook. (The link points you to a notebook about the Jupyter Notebook user interface intended to give you practice using an interactive notebook. This notebook is stored on GitHub and rendered with [nbviewer](http://nbviewer.jupyter.org/)):\n",
    "1. Navigate to http://nbviewer.jupyter.org/github/WaltGurley/jupyter-notebooks-intro/blob/master/Jupyter%20-%20interface.ipynb in your browser.\n",
    "2. Click the button in the upper right corner to download a web-hosted Jupyter notebook to your machine.\n",
    "3. Go back to your Notebook dashboard, click `Upload` and navigate to the file you just downloaded and click `Open`.\n",
    "4. You should now see 'Jupyter - interface.ipynb' in the dashboard."
   ]
  },
  {
   "cell_type": "markdown",
   "metadata": {},
   "source": [
    "Wrap up\n",
    "---\n",
    "You should now have Jupyter running on you local machine with conda and Python, two scientific computing Python packages (pandas and matplotlib), and a notebook.\n",
    "\n",
    "These are the quick steps to running a notebook server:\n",
    "1. In your terminal, navigate to the folder you want to use or contains your notebooks: `cd path/to/your/folder`\n",
    "2. In your terminal, run: `jupyter notebook`\n",
    "3. In the browser, double-click the notebook you want to open, create a new notebook, or upload an existing notebook\n",
    "4. When finished using Jupyter, stop the server by pressing `control+c` in the terminal and following the prompt\n",
    "\n",
    "**Next:** To continue to an interactive notebook covering the notebook user interface, in the Notebook dashboard double-click on the notebook uploaded in the last step to open 'Jupyter - interface.ipynb'"
   ]
  }
 ],
 "metadata": {
  "kernelspec": {
   "display_name": "Python 3",
   "language": "python",
   "name": "python3"
  },
  "language_info": {
   "codemirror_mode": {
    "name": "ipython",
    "version": 3
   },
   "file_extension": ".py",
   "mimetype": "text/x-python",
   "name": "python",
   "nbconvert_exporter": "python",
   "pygments_lexer": "ipython3",
   "version": "3.5.1"
  }
 },
 "nbformat": 4,
 "nbformat_minor": 0
}
