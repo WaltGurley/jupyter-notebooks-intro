{
 "cells": [
  {
   "cell_type": "markdown",
   "metadata": {},
   "source": [
    "# A (very) basic introduction Python in Jupyter notebooks\n",
    "\n",
    "The purpose of this notebook is to get you started with using Python in Jupyter notebooks. This notebook is an introduction to using Python in a notebook with pandas, a data analysis package, and matplotlib, a plotting package.\n",
    "\n",
    "_This notebook was originally created for a Digital Mixer session at the [2016 STELLA Unconference](https://stellagroup.wordpress.com/)_"
   ]
  },
  {
   "cell_type": "markdown",
   "metadata": {},
   "source": [
    "Importing packages\n",
    "---\n",
    "To use any functions in a package you must first import the package or the parts of the package you want to employee. For example, below are two different examples of importing. Here is the breakdown of what is happening:\n",
    "\n",
    "First, we are importing the entire pandas package using:\n",
    "```python\n",
    " import pandas\n",
    "```\n",
    "Next, we are changing the name of the pandas package in our current program to pd:\n",
    "```python\n",
    " import pandas as pd\n",
    "```\n",
    "_Doing this saves us a little time in the future as anytime you want to use a function in the pandas package you only have to type `pd` instead of the long word `pandas`._\n",
    "\n",
    "For the next import we only want _part_ of the matplotlib library. Specifically, we want pyplot, a graphical plotting framework. To import only part of a package we first the keyword `from` to indicate which package we want to take from and then `import` that subsection of code:\n",
    "```python\n",
    " from matplotlib import pyplot\n",
    "```\n",
    "When this cell is run pandas will be imported and available as `pd` and `pyplot` from the matplotlib package will be imported."
   ]
  },
  {
   "cell_type": "code",
   "execution_count": 33,
   "metadata": {
    "collapsed": false
   },
   "outputs": [],
   "source": [
    "# import necessary objects\n",
    "import pandas as pd\n",
    "from matplotlib import pyplot"
   ]
  },
  {
   "cell_type": "markdown",
   "metadata": {},
   "source": [
    "Code helpers in Jupyter\n",
    "---\n",
    "Jupyter has some built-in features to help you with programming. Two helpful features are code completion and tool-tips.\n",
    "\n",
    "#### Code completion\n",
    "In the Python code cell below type the following and then press `tab`:\n",
    "```python\n",
    "pd.Da\n",
    "```\n",
    "You will see a popup box indicating all the functions in pandas (pd) that start with the letters 'Da'. This is the code completion tool. If you ever can't quite remember the name of a function or want to quickly type a function out this can be handy. **Go ahead and select `DataFrame` from the list of available functions**\n",
    "![Example of code completion](./codeCompletion.png \"Example of code completion\")\n",
    "\n",
    "#### Tool-tips\n",
    "Tool-tips provide documentation on parts of our code. For example, if you want to know what `DataFrame` is and how to use it we can activate a tool-tip. To activate a tool-tip first click in the text of `DataFrame` in the code cell below then hold down `shift` and press `tab`. A popup should appear giving information about what type of data goes into the DataFrame function and a brief explantation of what this function does.\n",
    "![tool-tip 1](./shiftTab.png \"Shit+tab tool-tip\")\n",
    "\n",
    "For even more information, with your curser still in the text of `DataFrame`, hold down `shift` and press `tab` twice. Now you are presented with a larger, scrollable popup with more detailed documentation on DataFrame.\n",
    "![tool-tip 2](./shiftTab2.png \"Shit+tab+tab tool-tip\")\n",
    "\n",
    "For an entire pop-out of this documentation, following the same pattern above, hold `shift` and press `tab` four times. This will open the document on DataFrame in another pane.\n",
    "![tool-tip 3](./shiftTab3.png \"Shit+tab+tab+tab+tab tool-tip\")"
   ]
  },
  {
   "cell_type": "code",
   "execution_count": null,
   "metadata": {
    "collapsed": true
   },
   "outputs": [],
   "source": [
    "# test out code completion and tool-tips here\n",
    "pd.DataFrame\n",
    "\n",
    "# after testing code completion and tool-tips, see if you can create a simple data frame\n"
   ]
  },
  {
   "cell_type": "markdown",
   "metadata": {},
   "source": [
    "Pandas and Matplotlib\n",
    "---\n",
    "The following cells of code are simple examples of the pandas and Matplotlib packages. Try running each cell, using tool-tips, and editing the code to understand what these functions do.\n",
    "\n",
    "This is nowhere near an intro to these packages. For an in-depth introduction to pandas try [pandas-cookbook](http://nbviewer.jupyter.org/github/jvns/pandas-cookbook/tree/v0.1/cookbook/). For a brief intro to plotting in Jupyter notebooks check out [Plotting with Matplotlib](http://nbviewer.jupyter.org/github/ipython/ipython/blob/4.0.x/examples/IPython%20Kernel/Plotting%20in%20the%20Notebook.ipynb)"
   ]
  },
  {
   "cell_type": "code",
   "execution_count": null,
   "metadata": {
    "collapsed": false
   },
   "outputs": [],
   "source": [
    "# create a dictionary of fruits and their counts\n",
    "fruits = {\"apples\": 2, \"oranges\": 5, \"bananas\": 10, \"kiwi\": 4, \"grapes\": 30}\n",
    "\n",
    "# use the dictionary to create a pandas dataframe\n",
    "fruitData = pd.DataFrame({\"fruits\": fruits})\n",
    "\n",
    "# show the dataframe in the output\n",
    "fruitData"
   ]
  },
  {
   "cell_type": "code",
   "execution_count": null,
   "metadata": {
    "collapsed": false
   },
   "outputs": [],
   "source": [
    "# generate some summary statistics on the dataframe\n",
    "fruitData.describe"
   ]
  },
  {
   "cell_type": "code",
   "execution_count": null,
   "metadata": {
    "collapsed": false
   },
   "outputs": [],
   "source": [
    "# special command to make plots appear inline\n",
    "%matplotlib inline\n",
    "# make plots in the design style of ggplot\n",
    "pyplot.style.use('ggplot')\n",
    "\n",
    "# create a bar graph showing the number of each fruit\n",
    "fruitData.sort_values(\"fruits\").plot.barh()"
   ]
  }
 ],
 "metadata": {
  "kernelspec": {
   "display_name": "Python 3",
   "language": "python",
   "name": "python3"
  },
  "language_info": {
   "codemirror_mode": {
    "name": "ipython",
    "version": 3
   },
   "file_extension": ".py",
   "mimetype": "text/x-python",
   "name": "python",
   "nbconvert_exporter": "python",
   "pygments_lexer": "ipython3",
   "version": "3.5.1"
  }
 },
 "nbformat": 4,
 "nbformat_minor": 0
}
