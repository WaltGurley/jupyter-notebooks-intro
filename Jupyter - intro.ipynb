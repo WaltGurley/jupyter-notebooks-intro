{
  "nbformat": 4,
  "nbformat_minor": 0,
  "metadata": {
    "colab": {
      "name": "Jupyter - interface.ipynb",
      "version": "0.3.2",
      "provenance": [],
      "toc_visible": true,
      "include_colab_link": true
    },
    "kernelspec": {
      "display_name": "Python 3",
      "language": "python",
      "name": "python3"
    }
  },
  "cells": [
    {
      "cell_type": "markdown",
      "metadata": {
        "id": "view-in-github",
        "colab_type": "text"
      },
      "source": [
        "[View in Colaboratory](https://colab.research.google.com/github/WaltGurley/jupyter-notebooks-intro/blob/Colab/Jupyter%20-%20intro.ipynb)"
      ]
    },
    {
      "metadata": {
        "id": "yXJISMvzpxQ1",
        "colab_type": "text"
      },
      "cell_type": "markdown",
      "source": [
        "# Using a notebook\n",
        "The purpose of this notebook is to introduce Jupyter notebooks through  Google Colaboratory (Colab), a free Jupyter notebook environment. This notebook is a guide to the Colab interface, which is built on top of Jupyter, and writing code and text in Jupyter notebooks with the **Python** programming language and the markup language **Markdown**."
      ]
    },
    {
      "metadata": {
        "id": "Fl1LpE2SpxQ3",
        "colab_type": "text"
      },
      "cell_type": "markdown",
      "source": [
        "Cells\n",
        "---\n",
        "The basic structure of a Jupyter notebook consists of a linear sequence of cells from the top to the bottom of the page. A cell's content can consist of either:"
      ]
    },
    {
      "metadata": {
        "id": "LedAQMNUrx4q",
        "colab_type": "text"
      },
      "cell_type": "markdown",
      "source": [
        "### 1. Code and code output"
      ]
    },
    {
      "metadata": {
        "id": "xx_SvGXVpxQ3",
        "colab_type": "code",
        "outputId": "d68babde-3b33-4d9f-fc89-a59d4a6fe516",
        "colab": {
          "base_uri": "https://localhost:8080/",
          "height": 102
        }
      },
      "cell_type": "code",
      "source": [
        "## 1. code and code output ##\n",
        "\n",
        "# create a range of numbers\n",
        "numbers = range(0, 5)\n",
        "# print out each of the numbers in the range\n",
        "for number in numbers:\n",
        "    print(number)"
      ],
      "execution_count": 62,
      "outputs": [
        {
          "output_type": "stream",
          "text": [
            "0\n",
            "1\n",
            "2\n",
            "3\n",
            "4\n"
          ],
          "name": "stdout"
        }
      ]
    },
    {
      "metadata": {
        "id": "L2bwik3dpxQ-",
        "colab_type": "text"
      },
      "cell_type": "markdown",
      "source": [
        "### 2. Markdown/HTML\n",
        "\n",
        "### This is a big header written in markdown\n",
        "#### This is a medium header written in markdown\n",
        "###### This is a small header written in markdown\n",
        "This is a paragraph written in markdown\n",
        "\n",
        "1. you\n",
        "2. can\n",
        "3. make\n",
        "4. lists\n",
        "  * and\n",
        "  * unordered \n",
        "  * lists\n",
        "  \n",
        "  \n",
        " Tables | Work | Too\n",
        "  --- | ---| ---\n",
        "  1,1 | 1,2 | 1,3"
      ]
    },
    {
      "metadata": {
        "id": "mFT6noZspwcx",
        "colab_type": "code",
        "colab": {
          "base_uri": "https://localhost:8080/",
          "height": 46
        },
        "outputId": "bab48a43-52f1-4a2f-bbbe-3882b02148c5"
      },
      "cell_type": "code",
      "source": [
        "%%html\n",
        "<p>You can also write with <strong>html tags</strong> in a code cell using <span style='color: hotpink'>%%html magic</span></p>"
      ],
      "execution_count": 12,
      "outputs": [
        {
          "output_type": "display_data",
          "data": {
            "text/html": [
              "<p>You can also write with <strong>html tags</strong> in a code cell using <span style='color: hotpink'>%%html magic</span></p>"
            ],
            "text/plain": [
              "<IPython.core.display.HTML object>"
            ]
          },
          "metadata": {
            "tags": []
          }
        }
      ]
    },
    {
      "metadata": {
        "id": "1YKXfw_PpxRD",
        "colab_type": "text"
      },
      "cell_type": "markdown",
      "source": [
        "Click on any text above to see what cell it belongs to. The active cell will be surrounded by a drop shadow.\n",
        "\n",
        "**To enter edit mode in a cell click on any code input area or double-click on any rendered Markdown text or press enter when a text cell is active.**"
      ]
    },
    {
      "metadata": {
        "id": "T0Uf5MREpxRE",
        "colab_type": "text"
      },
      "cell_type": "markdown",
      "source": [
        "Adding, removing, and moving cells\n",
        "---\n",
        "You can manage cells using the notebook toolbar at the top of the page, within the notebook, or using keyboard shortcuts.\n",
        "* **Adding a cell:** To add a new cell below a cell hover your mouse near the buttom of an existing cell to display button options to add either a text or code cell. Optionally, click `+ CODE` button or the `+ TEXT` button in the toolbar. You can also create a new code cell above or below the current cell using the keyboard shorcuts **`⌘/Ctrl+M A`** (above) and **`⌘/Ctrl+M B`** (below)\n",
        "* **Move a cell:** To move the active cell up click the **`↑ CELL`** button or use the keyboard shorcut **`⌘/Ctrl+M K`**  To move a cell down click the **`↓ CELL`** button in the toolbar or use the keyboard shorcut **`⌘/Ctrl+M J`**.\n",
        "* **Delete a cell:** To delete the active cell, click the three vertical dots in the top-right corner of the active cell and  select `Delete Cell` or use the keyboard shorcut **`⌘/Ctrl+M D`**"
      ]
    },
    {
      "metadata": {
        "id": "Bge1cTkwy2YM",
        "colab_type": "text"
      },
      "cell_type": "markdown",
      "source": [
        "## YOU TRY!\n",
        "**Try adding a new Markdown cell and a Code cell, moving them around, and deleting them. _If you accidentally delete something you shouldn't have, you can undo it by going to:_** `Edit > Undo Delete Cells`"
      ]
    },
    {
      "metadata": {
        "id": "jOuiA8uapxRF",
        "colab_type": "text"
      },
      "cell_type": "markdown",
      "source": [
        "Running a cell\n",
        "---\n",
        "To run code in a cell or to render markdown as html in a cell you must _run_ the cell. \n",
        "\n",
        "**To run the contents of a cell:**\n",
        "1. activate it\n",
        "2. press `shift`+`return` _or_ click the run button `►` in the lefthand side of the cell ."
      ]
    },
    {
      "metadata": {
        "id": "HcLcuVxU2jo5",
        "colab_type": "text"
      },
      "cell_type": "markdown",
      "source": [
        "## YOU TRY!\n",
        "**Try editing and adding some Markdown text to this text cell**"
      ]
    },
    {
      "metadata": {
        "id": "lZUe0owppxRN",
        "colab_type": "text"
      },
      "cell_type": "markdown",
      "source": [
        "Double-click on **_this text_** to start\n",
        "\n",
        "_when you are done press `shift+return` to run_\n",
        "\n",
        "For an overview of Markdown format check out [Colab Markdown Guide](https://colab.research.google.com/notebooks/markdown_guide.ipynb) and [Github Markdown Cheatsheet](https://github.com/adam-p/markdown-here/wiki/Markdown-Cheatsheet)"
      ]
    },
    {
      "metadata": {
        "id": "7NgdI2-E2FbD",
        "colab_type": "text"
      },
      "cell_type": "markdown",
      "source": [
        "## YOU TRY!\n",
        "**Try running the three Python code cells below.** _You can edit and re-run a cell as many times as you want._"
      ]
    },
    {
      "metadata": {
        "id": "KfbDLoM8pxRF",
        "colab_type": "code",
        "colab": {}
      },
      "cell_type": "code",
      "source": [
        "# this is Python code -> RUN IT\n",
        "x = 2\n",
        "\n",
        "# the output of the last line of code is shown below the cell\n",
        "x * x"
      ],
      "execution_count": 0,
      "outputs": []
    },
    {
      "metadata": {
        "id": "KBdcbT3jpxRH",
        "colab_type": "code",
        "colab": {}
      },
      "cell_type": "code",
      "source": [
        "# this is Python code -> RUN IT\n",
        "x = 2\n",
        "\n",
        "# you can also use the 'print' statement to print information to the output below the cell\n",
        "print(x)\n",
        "\n",
        "# the output of the last line of code is still shown below the cell\n",
        "x * x"
      ],
      "execution_count": 0,
      "outputs": []
    },
    {
      "metadata": {
        "id": "mwEDgphEpxRL",
        "colab_type": "code",
        "colab": {},
        "cellView": "code"
      },
      "cell_type": "code",
      "source": [
        "# this is Python code -> RUN IT\n",
        "x = 2\n",
        "\n",
        "# if there is an error in your code an error message will display in the output below the cell\n",
        "x + \"two\""
      ],
      "execution_count": 0,
      "outputs": []
    },
    {
      "metadata": {
        "collapsed": true,
        "id": "5UAEHAu7pxRP",
        "colab_type": "text"
      },
      "cell_type": "markdown",
      "source": [
        "More information on the UI\n",
        "---\n",
        "* In the menubar click `Tools > Command Palette` for a list of all available commads and `Tools > Keyboard Sortcuts...` to view and set keyboard shortcuts.\n",
        "* Run multiple cells and select other run options through the `Runtime` menu in the menubar\n",
        "* Get an in-depth [overview of Colaboratory features](https://colab.research.google.com/notebooks/basic_features_overview.ipynb)"
      ]
    },
    {
      "metadata": {
        "id": "V_owtkP09YvQ",
        "colab_type": "text"
      },
      "cell_type": "markdown",
      "source": [
        "## Python in Jupyter notebooks\n",
        "\n"
      ]
    },
    {
      "metadata": {
        "id": "RY90znjLBmjb",
        "colab_type": "text"
      },
      "cell_type": "markdown",
      "source": [
        "### Basic data examples\n",
        "\n",
        "Here is an example of some of the types of data you can work with in Python"
      ]
    },
    {
      "metadata": {
        "id": "HID3EshQ8xqn",
        "colab_type": "code",
        "colab": {}
      },
      "cell_type": "code",
      "source": [
        "var1 = 20 # integer\n",
        "var2 = \"twenty\" # string\n",
        "var3 = [var1, var2] #array\n",
        "var4 = {\"v1\": var1, \"v2\": var2, \"v3\": var3} # dictionary\n",
        "print (var4)\n",
        "\n",
        "var5 = 3.14 # float\n",
        "var6 = True # boolean\n",
        "var6"
      ],
      "execution_count": 0,
      "outputs": []
    },
    {
      "metadata": {
        "id": "zcdFp10WDDH6",
        "colab_type": "text"
      },
      "cell_type": "markdown",
      "source": [
        "You can reference variables created in other cells, but note that changing the value of a variable in one cell will set that value to all other references in other cells when they are run:"
      ]
    },
    {
      "metadata": {
        "id": "xsA9ewNVCYJI",
        "colab_type": "code",
        "colab": {}
      },
      "cell_type": "code",
      "source": [
        "# Run this cell once and observer the output. Run it again and observe the output\n",
        "print('var3 = ' + str(var3))\n",
        "var3.append(var5)\n",
        "print('var3 = ' + str(var3))"
      ],
      "execution_count": 0,
      "outputs": []
    },
    {
      "metadata": {
        "id": "xWKBzv6WLok9",
        "colab_type": "text"
      },
      "cell_type": "markdown",
      "source": [
        "### Importing libraries\n",
        "\n",
        "To use any functions in a library you must first import the library or the parts of the package you want to employee. "
      ]
    },
    {
      "metadata": {
        "id": "KpNEqemQMm2k",
        "colab_type": "code",
        "colab": {}
      },
      "cell_type": "code",
      "source": [
        "# import necessary libraries\n",
        "import pandas as pd\n",
        "from matplotlib import pyplot"
      ],
      "execution_count": 0,
      "outputs": []
    },
    {
      "metadata": {
        "id": "jXADPUV7L5Q2",
        "colab_type": "text"
      },
      "cell_type": "markdown",
      "source": [
        "For example, above are two different examples of importing. Here is the breakdown of what is happening:\n",
        "\n",
        "First, we are importing the entire pandas package, a library with extensive data analysis tools, using:\n",
        "\n",
        "`import pandas`\n",
        "\n",
        "Next, we are changing the name of the pandas package in our current program to pd:\n",
        "\n",
        "`import pandas as pd`\n",
        "\n",
        "_Doing this saves us a little time in the future as anytime you want to use a function in the pandas package you only have to type pd instead of the long word pandas._\n",
        "\n",
        "For the next import we only want part of the matplotlib library. Specifically, we want pyplot, a graphical plotting framework. To import only part of a package we first the keyword from to indicate which package we want to take from and then import that subsection of code:\n",
        "\n",
        "`from matplotlib import pyplot`"
      ]
    },
    {
      "metadata": {
        "id": "HiK73bMQLcv-",
        "colab_type": "code",
        "colab": {}
      },
      "cell_type": "code",
      "source": [
        "# create a dictionary of fruits and their counts\n",
        "fruits = {\"apples\": 2, \"oranges\": 5, \"bananas\": 10, \"kiwi\": 4, \"grapes\": 30}\n",
        "\n",
        "# use the dictionary to create a pandas dataframe\n",
        "fruitData = pd.DataFrame({\"fruits\": fruits})\n",
        "\n",
        "# show the dataframe in the output\n",
        "fruitData"
      ],
      "execution_count": 0,
      "outputs": []
    },
    {
      "metadata": {
        "id": "JVfOiqN1NgeM",
        "colab_type": "code",
        "colab": {}
      },
      "cell_type": "code",
      "source": [
        "# generate some summary statistics on the dataframe\n",
        "fruitData.describe()"
      ],
      "execution_count": 0,
      "outputs": []
    },
    {
      "metadata": {
        "id": "yopfi2VaOrsw",
        "colab_type": "text"
      },
      "cell_type": "markdown",
      "source": [
        "### Graphing in Jupyter notebooks\n",
        "\n",
        "There are several graphing libraries for Python. Colab includes the popular library matplotlib that includes the graphic framework pyplot. You can create plots inline, rendered below the code cell in which the plot is called. Below is a simple example of a bar graph using our fruit data."
      ]
    },
    {
      "metadata": {
        "id": "eh36WDtTNvTn",
        "colab_type": "code",
        "colab": {}
      },
      "cell_type": "code",
      "source": [
        "# make plots in the design style of ggplot\n",
        "pyplot.style.use('ggplot')\n",
        "\n",
        "# create a bar graph showing the number of each fruit\n",
        "fruitData.sort_values(\"fruits\").plot.barh()"
      ],
      "execution_count": 0,
      "outputs": []
    },
    {
      "metadata": {
        "id": "ay8VNB4AOnJe",
        "colab_type": "code",
        "colab": {}
      },
      "cell_type": "code",
      "source": [
        ""
      ],
      "execution_count": 0,
      "outputs": []
    },
    {
      "metadata": {
        "id": "D9wQmmBZPPmI",
        "colab_type": "text"
      },
      "cell_type": "markdown",
      "source": [
        "### Loading data\n",
        "\n",
        "Data can be loaded into Colab in several ways including connecting to local storage, connecting to Google Drive or Google Sheets, or uploading a data file. We will upload a data file to demonstrate how to use an external dataset:\n",
        "\n",
        "1. To the left of the window where the table of contents are located click the `Files` tab and click the `UPLOAD` button\n",
        "2. Navigate to the folder containing **HeartRateTimeSeriesMIT.csv** and load that file\n",
        "3. This file is now stored in the same directory as our notebook"
      ]
    },
    {
      "metadata": {
        "id": "6VsII2bgP5rR",
        "colab_type": "code",
        "colab": {}
      },
      "cell_type": "code",
      "source": [
        "#Load data\n",
        "# Use the pandas read_csv method to read in the data\n",
        "heartRates = pd.read_csv(\"HeartRateTimeSeriesMIT.csv\")\n",
        "heartRates.describe()"
      ],
      "execution_count": 0,
      "outputs": []
    },
    {
      "metadata": {
        "id": "njGLuld9P9Tt",
        "colab_type": "code",
        "colab": {}
      },
      "cell_type": "code",
      "source": [
        "# Set the min and max values of the y axis\n",
        "pyplot.ylim(60, 120)\n",
        "# Set the min and max values of the x axis\n",
        "pyplot.xlim(0, 900)\n",
        "pyplot.plot(heartRates.time, heartRates.heartRate1, \"-r\")\n",
        "pyplot.plot(heartRates.time, heartRates.heartRate2, \"-b\")"
      ],
      "execution_count": 0,
      "outputs": []
    },
    {
      "metadata": {
        "id": "mKEKb2WERnW3",
        "colab_type": "code",
        "colab": {}
      },
      "cell_type": "code",
      "source": [
        ""
      ],
      "execution_count": 0,
      "outputs": []
    }
  ]
}