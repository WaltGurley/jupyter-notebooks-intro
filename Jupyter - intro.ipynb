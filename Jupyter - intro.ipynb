{
  "nbformat": 4,
  "nbformat_minor": 0,
  "metadata": {
    "colab": {
      "name": "Jupyter - interface.ipynb",
      "version": "0.3.2",
      "provenance": [],
      "toc_visible": true,
      "include_colab_link": true
    },
    "kernelspec": {
      "display_name": "Python 3",
      "language": "python",
      "name": "python3"
    }
  },
  "cells": [
    {
      "cell_type": "markdown",
      "metadata": {
        "id": "view-in-github",
        "colab_type": "text"
      },
      "source": [
        "[View in Colaboratory](https://colab.research.google.com/github/WaltGurley/jupyter-notebooks-intro/blob/Colab/Jupyter%20-%20intro.ipynb)"
      ]
    },
    {
      "metadata": {
        "id": "yXJISMvzpxQ1",
        "colab_type": "text"
      },
      "cell_type": "markdown",
      "source": [
        "# Using a notebook\n",
        "The purpose of this notebook is to introduce Jupyter notebooks through  Google Colaboratory (Colab), a free Jupyter notebook environment. This notebook is a guide to the Colab interface, which is built on top of Jupyter, and writing code and text in Jupyter notebooks with the **Python** programming language and the markup language **Markdown**."
      ]
    },
    {
      "metadata": {
        "id": "Fl1LpE2SpxQ3",
        "colab_type": "text"
      },
      "cell_type": "markdown",
      "source": [
        "Cells\n",
        "---\n",
        "The basic structure of a Jupyter notebook consists of a linear sequence of cells from the top to the bottom of the page. A cell's content can consist of either:"
      ]
    },
    {
      "metadata": {
        "id": "LedAQMNUrx4q",
        "colab_type": "text"
      },
      "cell_type": "markdown",
      "source": [
        "### 1. Code and code output"
      ]
    },
    {
      "metadata": {
        "id": "xx_SvGXVpxQ3",
        "colab_type": "code",
        "colab": {}
      },
      "cell_type": "code",
      "source": [
        "## 1. code and code output ##\n",
        "\n",
        "# create a range of numbers\n",
        "numbers = range(0, 5)\n",
        "# print out each of the numbers in the range\n",
        "for number in numbers:\n",
        "    print(number)"
      ],
      "execution_count": 0,
      "outputs": []
    },
    {
      "metadata": {
        "id": "L2bwik3dpxQ-",
        "colab_type": "text"
      },
      "cell_type": "markdown",
      "source": [
        "### 2. Markdown/HTML\n",
        "\n",
        "### This is a big header written in markdown\n",
        "#### This is a medium header written in markdown\n",
        "###### This is a small header written in markdown\n",
        "This is a paragraph written in markdown\n",
        "\n",
        "1. you\n",
        "2. can\n",
        "3. make\n",
        "4. lists\n",
        "  * and\n",
        "  * unordered \n",
        "  * lists\n",
        "  \n",
        "  \n",
        " Tables | Work | Too\n",
        "  --- | ---| ---\n",
        "  1,1 | 1,2 | 1,3"
      ]
    },
    {
      "metadata": {
        "id": "mFT6noZspwcx",
        "colab_type": "code",
        "colab": {
          "base_uri": "https://localhost:8080/",
          "height": 46
        },
        "outputId": "bab48a43-52f1-4a2f-bbbe-3882b02148c5"
      },
      "cell_type": "code",
      "source": [
        "%%html\n",
        "<p>You can also write with <strong>html tags</strong> in a code cell using <span style='color: hotpink'>%%html magic</span></p>"
      ],
      "execution_count": 12,
      "outputs": [
        {
          "output_type": "display_data",
          "data": {
            "text/html": [
              "<p>You can also write with <strong>html tags</strong> in a code cell using <span style='color: hotpink'>%%html magic</span></p>"
            ],
            "text/plain": [
              "<IPython.core.display.HTML object>"
            ]
          },
          "metadata": {
            "tags": []
          }
        }
      ]
    },
    {
      "metadata": {
        "id": "1YKXfw_PpxRD",
        "colab_type": "text"
      },
      "cell_type": "markdown",
      "source": [
        "Click on any text above to see what cell it belongs to. The active cell will be surrounded by a drop shadow.\n",
        "\n",
        "**To enter edit mode in a cell click on any code input area or double-click on any rendered Markdown text or press enter when a text cell is active.**"
      ]
    },
    {
      "metadata": {
        "id": "T0Uf5MREpxRE",
        "colab_type": "text"
      },
      "cell_type": "markdown",
      "source": [
        "Adding, removing, and moving cells\n",
        "---\n",
        "You can manage cells using the notebook toolbar at the top of the page, within the notebook, or using keyboard shortcuts.\n",
        "* **Adding a cell:** To add a new cell below a cell hover your mouse near the buttom of an existing cell to display button options to add either a text or code cell. Optionally, click `+ CODE` button or the `+ TEXT` button in the toolbar. You can also create a new code cell above or below the current cell using the keyboard shorcuts **`⌘/Ctrl+M A`** (above) and **`⌘/Ctrl+M B`** (below)\n",
        "* **Move a cell:** To move the active cell up click the **`↑ CELL`** button or use the keyboard shorcut **`⌘/Ctrl+M K`**  To move a cell down click the **`↓ CELL`** button in the toolbar or use the keyboard shorcut **`⌘/Ctrl+M J`**.\n",
        "* **Delete a cell:** To delete the active cell, click the three vertical dots in the top-right corner of the active cell and  select `Delete Cell` or use the keyboard shorcut **`⌘/Ctrl+M D`**"
      ]
    },
    {
      "metadata": {
        "id": "Bge1cTkwy2YM",
        "colab_type": "text"
      },
      "cell_type": "markdown",
      "source": [
        "## YOU TRY!\n",
        "**Try adding a new Markdown cell and a Code cell, moving them around, and deleting them. _If you accidentally delete something you shouldn't have, you can undo it by going to:_** `Edit > Undo Delete Cells`"
      ]
    },
    {
      "metadata": {
        "id": "jOuiA8uapxRF",
        "colab_type": "text"
      },
      "cell_type": "markdown",
      "source": [
        "Running a cell\n",
        "---\n",
        "To run code in a cell or to render markdown as html in a cell you must _run_ the cell. \n",
        "\n",
        "**To run the contents of a cell:**\n",
        "1. activate it\n",
        "2. press `shift`+`return` _or_ click the run button `►` in the lefthand side of the cell ."
      ]
    },
    {
      "metadata": {
        "id": "HcLcuVxU2jo5",
        "colab_type": "text"
      },
      "cell_type": "markdown",
      "source": [
        "## YOU TRY!\n",
        "**Try editing and adding some Markdown text to this text cell**"
      ]
    },
    {
      "metadata": {
        "id": "lZUe0owppxRN",
        "colab_type": "text"
      },
      "cell_type": "markdown",
      "source": [
        "Double-click on **_this text_** to start\n",
        "\n",
        "_when you are done press `shift+return` to run_\n",
        "\n",
        "For an overview of Markdown format check out [Markdown Cheatsheet](https://github.com/adam-p/markdown-here/wiki/Markdown-Cheatsheet)"
      ]
    },
    {
      "metadata": {
        "id": "7NgdI2-E2FbD",
        "colab_type": "text"
      },
      "cell_type": "markdown",
      "source": [
        "## YOU TRY!\n",
        "**Try running the three Python code cells below.** _You can edit and re-run a cell as many times as you want._"
      ]
    },
    {
      "metadata": {
        "id": "KfbDLoM8pxRF",
        "colab_type": "code",
        "colab": {}
      },
      "cell_type": "code",
      "source": [
        "# this is Python code -> RUN IT\n",
        "x = 2\n",
        "\n",
        "# the output of the last line of code is shown below the cell\n",
        "x * x"
      ],
      "execution_count": 0,
      "outputs": []
    },
    {
      "metadata": {
        "id": "KBdcbT3jpxRH",
        "colab_type": "code",
        "colab": {}
      },
      "cell_type": "code",
      "source": [
        "# this is Python code -> RUN IT\n",
        "x = 2\n",
        "\n",
        "# you can also use the 'print' statement to print information to the output below the cell\n",
        "print(x)\n",
        "\n",
        "# the output of the last line of code is still shown below the cell\n",
        "x * x"
      ],
      "execution_count": 0,
      "outputs": []
    },
    {
      "metadata": {
        "id": "mwEDgphEpxRL",
        "colab_type": "code",
        "colab": {},
        "cellView": "code"
      },
      "cell_type": "code",
      "source": [
        "# this is Python code -> RUN IT\n",
        "x = 2\n",
        "\n",
        "# if there is an error in your code an error message will display in the output below the cell\n",
        "x + \"two\""
      ],
      "execution_count": 0,
      "outputs": []
    },
    {
      "metadata": {
        "collapsed": true,
        "id": "5UAEHAu7pxRP",
        "colab_type": "text"
      },
      "cell_type": "markdown",
      "source": [
        "More information on the UI\n",
        "---\n",
        "* In the menubar click `Tools > Command Palette` for a list of all available commads.\n",
        "* Another overview of the interface from the Jupyter website: [Overview of the Notebook UI](http://nbviewer.jupyter.org/github/ipython/ipython/blob/3.x/examples/Notebook/Notebook%20Basics.ipynb#Overview-of-the-Notebook-UI)\n",
        "* More information on running code from the Jupyter website: [Running Code](http://nbviewer.jupyter.org/github/ipython/ipython/blob/3.x/examples/Notebook/Running%20Code.ipynb)"
      ]
    },
    {
      "metadata": {
        "id": "2JeL8bmWpxRP",
        "colab_type": "text"
      },
      "cell_type": "markdown",
      "source": [
        "Wrap up\n",
        "---\n",
        "You should have a basic understanding of how to navigate an interactive notebook, the cell types, how to manipulate cells (adding, moving, removing, etc.), and how to run cells.\n",
        "\n",
        "**Next:** For a basic overview of data analysis and visualization with pandas and matplotlib, download the following notebook and add it to your notebooks folder by uploading it in the Notebook dashboard: http://nbviewer.jupyter.org/github/WaltGurley/jupyter-notebooks-intro/blob/master/Jupyter%20-%20coding%20with%20Python.ipynb"
      ]
    }
  ]
}