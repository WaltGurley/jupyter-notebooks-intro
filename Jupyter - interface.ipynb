{
 "cells": [
  {
   "cell_type": "markdown",
   "metadata": {},
   "source": [
    "# Using a notebook\n",
    "The purpose of this notebook is to introduce the Jupyter interface. This notebook is a guide to the Jupyter interface and writing code and text in Jupyter notebooks with the _Python_ programmming language and _Markdown_, the lightweight markup language.\n",
    "\n",
    "_This notebook was originally created for a Digital Mixer session at the [2016 STELLA Unconference](https://stellagroup.wordpress.com/)_"
   ]
  },
  {
   "cell_type": "markdown",
   "metadata": {},
   "source": [
    "Cells\n",
    "---\n",
    "The basic structure of a Jupyter notebook consists of cells of content in sequential order from the top to the bottom of the page. A cell's content can consist of either:\n",
    "\n",
    "#### 1. code and code output"
   ]
  },
  {
   "cell_type": "code",
   "execution_count": 15,
   "metadata": {
    "collapsed": false
   },
   "outputs": [
    {
     "name": "stdout",
     "output_type": "stream",
     "text": [
      "0\n",
      "1\n",
      "2\n",
      "3\n",
      "4\n"
     ]
    }
   ],
   "source": [
    "# create a range of numbers\n",
    "numbers = range(0, 5)\n",
    "# print out each of the numbers in the range\n",
    "for number in numbers:\n",
    "    print(number)"
   ]
  },
  {
   "cell_type": "markdown",
   "metadata": {},
   "source": [
    "#### 2. Markdown/html"
   ]
  },
  {
   "cell_type": "markdown",
   "metadata": {},
   "source": [
    "### This is a big header written in markdown\n",
    "#### This is a medium header written in markdown\n",
    "##### This is a small header written in markdown\n",
    "This is a paragraph written in markdown\n",
    "<div class=\"alert alert-warning\" role=\"alert\"><p>You can also write with <strong>html tags</strong></p></div>"
   ]
  },
  {
   "cell_type": "markdown",
   "metadata": {},
   "source": [
    "#### 3. raw text "
   ]
  },
  {
   "cell_type": "raw",
   "metadata": {},
   "source": [
    "This is ugly. You probably don't need to use raw text."
   ]
  },
  {
   "cell_type": "markdown",
   "metadata": {},
   "source": [
    "Click on any text above to see what cell it belongs to. The active cell will be surrounded by a green or blue outline. A green outline indicates you are in edit mode for that cell and you can type in the cell. A blue outline indicates that you are in command mode and you cannot type in the active cell. **To enter edit mode in a cell, click on any code input area or double-click on any rendered markdown text.**\n",
    "\n",
    "Notice that you can see the content type of the active cell in the multi-choice button in the notebook toolbar at the top of the page:\n",
    "\n",
    "![alt text](./cellType.png)\n",
    "\n",
    "You can also use this button to change the cell type."
   ]
  },
  {
   "cell_type": "markdown",
   "metadata": {},
   "source": [
    "Adding, removing, and moving cells\n",
    "---\n",
    "You can manage cells using the notebook toolbar.\n",
    "* To add a new cell below the active cell, click <i class=\"fa-plus fa\"></i>\n",
    "* Use <i class=\"fa-cut fa\"></i> to cut or <i class=\"fa-copy fa\"></i> to copy a cell and <i class=\"fa-paste fa\"></i> to paste the cut/copied cell below the active cell\n",
    "* To move the active cell up or down, click <i class=\"fa-arrow-up fa\"></i> or <i class=\"fa-arrow-down fa\"></i>\n",
    "* To delete the active cell, click `Edit > Delete Cells`\n"
   ]
  },
  {
   "cell_type": "markdown",
   "metadata": {},
   "source": [
    "Running a cell\n",
    "---\n",
    "To run code in a cell or to render markdown as html in a cell you must _run_ the cell. \n",
    "\n",
    "**To run the contents of a cell:**\n",
    "1. activate it\n",
    "2. press `shift`+`return` _or_ click <i class=\"fa-step-forward fa\"></i> in the notebook toolbar at the top of the page.\n",
    "\n",
    "**Try running the two cells below. One is a cell of Python code, and the other is markup.**\n",
    "You can edit and rerun a cell as many times as you want. _Remember_, to edit and re-run a markup cell double-click on the rendered content.\n"
   ]
  },
  {
   "cell_type": "code",
   "execution_count": null,
   "metadata": {
    "collapsed": false
   },
   "outputs": [],
   "source": [
    "# this is Python code -> RUN IT\n",
    "x = 2\n",
    "x * x"
   ]
  },
  {
   "cell_type": "markdown",
   "metadata": {
    "collapsed": true
   },
   "source": [
    "![alt text](https://stellagroup.files.wordpress.com/2012/08/cropped-stella2.png \"STELLA(!)\")"
   ]
  },
  {
   "cell_type": "code",
   "execution_count": null,
   "metadata": {
    "collapsed": true
   },
   "outputs": [],
   "source": []
  }
 ],
 "metadata": {
  "kernelspec": {
   "display_name": "Python 3",
   "language": "python",
   "name": "python3"
  },
  "language_info": {
   "codemirror_mode": {
    "name": "ipython",
    "version": 3
   },
   "file_extension": ".py",
   "mimetype": "text/x-python",
   "name": "python",
   "nbconvert_exporter": "python",
   "pygments_lexer": "ipython3",
   "version": "3.5.1"
  }
 },
 "nbformat": 4,
 "nbformat_minor": 0
}
